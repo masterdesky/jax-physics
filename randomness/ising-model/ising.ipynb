{
 "cells": [
  {
   "cell_type": "markdown",
   "id": "c481eb64-6bed-44ff-99c8-c85870ead9a5",
   "metadata": {},
   "source": [
    "# Ising model simulation with Monte Carlo method"
   ]
  },
  {
   "cell_type": "code",
   "execution_count": null,
   "id": "e8f5da36-48c6-427f-9d00-f3ba3d806e9e",
   "metadata": {},
   "outputs": [],
   "source": [
    "import jax\n",
    "import jax.numpy as jnp\n",
    "\n",
    "import matplotlib.pyplot as plt"
   ]
  },
  {
   "cell_type": "code",
   "execution_count": null,
   "id": "6c920108-735c-4289-85fb-a1bcb10375a0",
   "metadata": {},
   "outputs": [],
   "source": [
    "# Initialize JAX PRNG\n",
    "key = random.key(183361063)"
   ]
  },
  {
   "cell_type": "code",
   "execution_count": null,
   "id": "8bb58635-812b-4fc7-a8e6-8b0150ae29af",
   "metadata": {},
   "outputs": [],
   "source": [
    "def random_spin(key, size=()):\n",
    "    '''\n",
    "    Returns an array filled with +1 and -1 values, randomly sampled from\n",
    "    a uniform distribution.\n",
    "    '''\n",
    "    key, subkey = jax.random.split(key)\n",
    "    return key, jnp.sign(jax.random.uniform(subkey, size) - 0.5)"
   ]
  },
  {
   "cell_type": "code",
   "execution_count": null,
   "id": "a0f24bcb-6bd7-4fb2-96f0-9cf09f183ed4",
   "metadata": {},
   "outputs": [],
   "source": [
    "def delta_E(S, i, j, J=1, h=0):\n",
    "    '''\n",
    "    Calculate the energy change after the flip of the (i, j) spin.\n",
    "    '''\n",
    "    Nr, Nc = S.shape                  # Size of the lattice\n",
    "    nb = jnp.array((-1, -Nc, 1, Nc))  # Relative indexes of neighbouring spins\n",
    "\n",
    "    k = i*Nc + j               # Flattened indexes inside the borders\n",
    "    k_nb = (k - nb) % (Nr*Nc)  # Flattened indexes on the borders\n",
    "\n",
    "    # Calculate the energy change\n",
    "    dE = 2*J*jnp.sum(S.ravel()[k] * S.ravel()[k_nb]) + 2*h*S.ravel()[k]\n",
    "\n",
    "    return dE"
   ]
  },
  {
   "cell_type": "code",
   "execution_count": null,
   "id": "db2fa1fd-fb6c-433d-8136-0454fb833613",
   "metadata": {},
   "outputs": [],
   "source": [
    "def mcmc_step(key, S, beta=0.01, J=1, h=0):\n",
    "    '''TODO\n",
    "    '''\n",
    "    key, subkey = jax.random.split(key)\n",
    "    # Choose random indexes\n",
    "    i = jax.random.randint(key, shape=(), minval=0, maxval=S.shape[0])\n",
    "    j = jax.random.randint(key, shape=(), minval=0, maxval=S.shape[1])\n",
    "\n",
    "    # Calculate energy difference on flip of spin_ij\n",
    "    dE = delta_E(S, i, j, J, h)\n",
    "\n",
    "    # If dE < 0, then execute the flip\n",
    "    if dE < 0:\n",
    "        S = S.at[i, j].set(-S[i, j])\n",
    "    # If dE == 0, then randomly flip the spin\n",
    "    elif (dE == 0) & (jax.random.uniform(key, (), -1, 1) < 0):\n",
    "        key, idx = random_spin(subkey)\n",
    "        S = S.at[i, j].set(S[i, j] * idx)\n",
    "    # If dE > 0, choose a random number R, between 0 and 1\n",
    "    # If R < e^(-beta * dE), then execute the spin flip\n",
    "    # If not, then leave the spins' state untouched and continue with the next step\n",
    "    elif jax.random.uniform(subkey) < jnp.exp(-beta * dE):\n",
    "            S = S.at[i, j].set(-S[i, j])\n",
    "\n",
    "    return key, S"
   ]
  },
  {
   "cell_type": "code",
   "execution_count": null,
   "id": "ba50e6d7-916b-4327-beb2-6bdd85f9ea04",
   "metadata": {},
   "outputs": [],
   "source": [
    "num_steps = 1000\n",
    "key, S = get_random_spins(key, size=(25, 25))\n",
    "\n",
    "for _ in range(num_steps):\n",
    "    key, S = mcmc_step(key, S)"
   ]
  },
  {
   "cell_type": "code",
   "execution_count": null,
   "id": "e79903d4-54f5-4a5b-884b-977cb92dd045",
   "metadata": {},
   "outputs": [],
   "source": []
  }
 ],
 "metadata": {
  "kernelspec": {
   "display_name": "Python 3 (ipykernel)",
   "language": "python",
   "name": "python3"
  },
  "language_info": {
   "codemirror_mode": {
    "name": "ipython",
    "version": 3
   },
   "file_extension": ".py",
   "mimetype": "text/x-python",
   "name": "python",
   "nbconvert_exporter": "python",
   "pygments_lexer": "ipython3",
   "version": "3.9.19"
  }
 },
 "nbformat": 4,
 "nbformat_minor": 5
}
