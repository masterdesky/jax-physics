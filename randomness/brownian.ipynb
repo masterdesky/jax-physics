{
 "cells": [
  {
   "cell_type": "markdown",
   "id": "3a48da4c-e79e-4c91-a6ce-3eb59c456c18",
   "metadata": {},
   "source": [
    "# Brownian motion with JAX"
   ]
  },
  {
   "cell_type": "code",
   "execution_count": null,
   "id": "16b55f16-0190-4ea1-92ae-82d335adcfdb",
   "metadata": {},
   "outputs": [],
   "source": [
    "import jax\n",
    "import jax.numpy as jnp\n",
    "\n",
    "import numpy as np\n",
    "import matplotlib.pyplot as plt"
   ]
  },
  {
   "cell_type": "code",
   "execution_count": null,
   "id": "a7091fe3-7b11-45e1-add5-d304faba600d",
   "metadata": {},
   "outputs": [],
   "source": []
  }
 ],
 "metadata": {
  "kernelspec": {
   "display_name": "Python 3 (ipykernel)",
   "language": "python",
   "name": "python3"
  },
  "language_info": {
   "codemirror_mode": {
    "name": "ipython",
    "version": 3
   },
   "file_extension": ".py",
   "mimetype": "text/x-python",
   "name": "python",
   "nbconvert_exporter": "python",
   "pygments_lexer": "ipython3",
   "version": "3.9.18"
  }
 },
 "nbformat": 4,
 "nbformat_minor": 5
}
